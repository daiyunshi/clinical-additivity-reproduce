{
 "cells": [
  {
   "cell_type": "code",
   "execution_count": 3,
   "metadata": {},
   "outputs": [],
   "source": [
    "from urllib.request import urlopen\n",
    "from bs4 import BeautifulSoup, element, NavigableString, Tag\n",
    "import mechanicalsoup\n",
    "import re\n",
    "import pandas as pd\n",
    "import numpy as np\n"
   ]
  },
  {
   "cell_type": "code",
   "execution_count": 106,
   "metadata": {},
   "outputs": [],
   "source": [
    "trials = pd.read_excel('../../data/failed_trials/Plana2022_suppl/PhaseIII_ClinicalTrials_metadata_F.xlsx', sheet_name='Trials')\n",
    "criteria2 = pd.read_excel('../../data/failed_trials/major_cancer_types_search.xlsx', sheet_name='criteria 2')"
   ]
  },
  {
   "cell_type": "code",
   "execution_count": 108,
   "metadata": {},
   "outputs": [],
   "source": [
    "trials = pd.read_excel('../../data/failed_trials/Plana2022_otherCancerTypes/PhaseIII_ClinicalTrials_metadata_OtherTumorTypes_DP.xlsx', sheet_name='Trials')\n",
    "criteria2 = pd.read_excel('../../data/failed_trials/other_cancer_types_search.xlsx', sheet_name='criteria 2')"
   ]
  },
  {
   "cell_type": "code",
   "execution_count": 5,
   "metadata": {},
   "outputs": [],
   "source": [
    "trials = pd.read_excel(\n",
    "    '../../data/all_phase3_trials/all_phase3_trials_abstract.xlsx', sheet_name='Sheet1')\n"
   ]
  },
  {
   "cell_type": "code",
   "execution_count": 109,
   "metadata": {},
   "outputs": [],
   "source": [
    "trial_names = criteria2['Trial Name_Figure'].str.split('_', expand=True)[0].unique()"
   ]
  },
  {
   "cell_type": "code",
   "execution_count": 110,
   "metadata": {},
   "outputs": [
    {
     "data": {
      "text/plain": [
       "(8,)"
      ]
     },
     "execution_count": 110,
     "metadata": {},
     "output_type": "execute_result"
    }
   ],
   "source": [
    "trial_names.shape"
   ]
  },
  {
   "cell_type": "code",
   "execution_count": 9,
   "metadata": {},
   "outputs": [],
   "source": [
    "#pubmed_ids = trials[trials['Trial Name'].isin(trial_names)]['PubMed ID'].unique()\n",
    "pubmed_ids = trials['PMID'].values\n"
   ]
  },
  {
   "cell_type": "code",
   "execution_count": 11,
   "metadata": {},
   "outputs": [],
   "source": [
    "def clean_text(txt):\n",
    "    return txt.strip().replace('  ', '').replace('\\n\\n', '\\n').replace('\\n\\n', '\\n')\n"
   ]
  },
  {
   "cell_type": "code",
   "execution_count": 16,
   "metadata": {},
   "outputs": [],
   "source": [
    "def find_title_abstract(pubmed_id):\n",
    "    url = f'https://pubmed.ncbi.nlm.nih.gov/{pubmed_id}/'\n",
    "    page = urlopen(url)\n",
    "    html = page.read().decode('utf-8')\n",
    "    soup = BeautifulSoup(html, \"html.parser\")\n",
    "    title = clean_text(soup.find(\"title\").text)\n",
    "    try:\n",
    "        abstract = clean_text(\n",
    "            soup.find(\"div\", {\"class\": \"abstract-content selected\"}).text)\n",
    "    except AttributeError:\n",
    "        abstract = \"NA\"\n",
    "    return (title, abstract)\n",
    "    \n"
   ]
  },
  {
   "cell_type": "code",
   "execution_count": 15,
   "metadata": {},
   "outputs": [],
   "source": [
    "criteria3 = pd.DataFrame(index=pubmed_ids, columns=['Title', 'Abstract'])"
   ]
  },
  {
   "cell_type": "code",
   "execution_count": 17,
   "metadata": {},
   "outputs": [],
   "source": [
    "tmp = pd.Series(pubmed_ids).apply(find_title_abstract)"
   ]
  },
  {
   "cell_type": "code",
   "execution_count": 18,
   "metadata": {},
   "outputs": [],
   "source": [
    "criteria3 = pd.DataFrame(tmp.to_list(), index=pubmed_ids, columns=['Title', 'Abstract'])\n",
    "criteria3.index.name = 'PMID'"
   ]
  },
  {
   "cell_type": "code",
   "execution_count": 19,
   "metadata": {},
   "outputs": [
    {
     "data": {
      "text/html": [
       "<div>\n",
       "<style scoped>\n",
       "    .dataframe tbody tr th:only-of-type {\n",
       "        vertical-align: middle;\n",
       "    }\n",
       "\n",
       "    .dataframe tbody tr th {\n",
       "        vertical-align: top;\n",
       "    }\n",
       "\n",
       "    .dataframe thead th {\n",
       "        text-align: right;\n",
       "    }\n",
       "</style>\n",
       "<table border=\"1\" class=\"dataframe\">\n",
       "  <thead>\n",
       "    <tr style=\"text-align: right;\">\n",
       "      <th></th>\n",
       "      <th>Title</th>\n",
       "      <th>Abstract</th>\n",
       "    </tr>\n",
       "    <tr>\n",
       "      <th>PMID</th>\n",
       "      <th></th>\n",
       "      <th></th>\n",
       "    </tr>\n",
       "  </thead>\n",
       "  <tbody>\n",
       "    <tr>\n",
       "      <th>24256848</th>\n",
       "      <td>A randomized phase III trial comparing inducti...</td>\n",
       "      <td>Background:\\nConcurrent chemoradiotherapy (CCR...</td>\n",
       "    </tr>\n",
       "    <tr>\n",
       "      <th>24297950</th>\n",
       "      <td>Randomized phase III trial of temsirolimus ver...</td>\n",
       "      <td>Purpose:\\nThis international phase III trial (...</td>\n",
       "    </tr>\n",
       "    <tr>\n",
       "      <th>24297945</th>\n",
       "      <td>Randomized phase III trial of temsirolimus and...</td>\n",
       "      <td>Purpose:\\nTo prospectively determine the effic...</td>\n",
       "    </tr>\n",
       "    <tr>\n",
       "      <th>24323035</th>\n",
       "      <td>Randomized, placebo-controlled, phase III tria...</td>\n",
       "      <td>Purpose:\\nWe evaluated angiogenesis-targeted s...</td>\n",
       "    </tr>\n",
       "    <tr>\n",
       "      <th>24356622</th>\n",
       "      <td>Final results from a randomized phase 3 study ...</td>\n",
       "      <td>Background:\\nThe study 20050181 demonstrated s...</td>\n",
       "    </tr>\n",
       "    <tr>\n",
       "      <th>...</th>\n",
       "      <td>...</td>\n",
       "      <td>...</td>\n",
       "    </tr>\n",
       "    <tr>\n",
       "      <th>33207094</th>\n",
       "      <td>First-Line Lorlatinib or Crizotinib in Advance...</td>\n",
       "      <td>Background:\\nLorlatinib, a third-generation in...</td>\n",
       "    </tr>\n",
       "    <tr>\n",
       "      <th>33278935</th>\n",
       "      <td>Pembrolizumab plus chemotherapy versus placebo...</td>\n",
       "      <td>Background:\\nPembrolizumab monotherapy showed ...</td>\n",
       "    </tr>\n",
       "    <tr>\n",
       "      <th>33284113</th>\n",
       "      <td>Pembrolizumab plus axitinib versus sunitinib m...</td>\n",
       "      <td>Background:\\nThe first interim analysis of the...</td>\n",
       "    </tr>\n",
       "    <tr>\n",
       "      <th>33309774</th>\n",
       "      <td>Cobimetinib plus atezolizumab in BRAFV600 wild...</td>\n",
       "      <td>Background:\\nEmerging data suggest that the co...</td>\n",
       "    </tr>\n",
       "    <tr>\n",
       "      <th>33385521</th>\n",
       "      <td>Palbociclib in combination with endocrine ther...</td>\n",
       "      <td>Background:\\nPalbociclib plus endocrine therap...</td>\n",
       "    </tr>\n",
       "  </tbody>\n",
       "</table>\n",
       "<p>482 rows × 2 columns</p>\n",
       "</div>"
      ],
      "text/plain": [
       "                                                      Title  \\\n",
       "PMID                                                          \n",
       "24256848  A randomized phase III trial comparing inducti...   \n",
       "24297950  Randomized phase III trial of temsirolimus ver...   \n",
       "24297945  Randomized phase III trial of temsirolimus and...   \n",
       "24323035  Randomized, placebo-controlled, phase III tria...   \n",
       "24356622  Final results from a randomized phase 3 study ...   \n",
       "...                                                     ...   \n",
       "33207094  First-Line Lorlatinib or Crizotinib in Advance...   \n",
       "33278935  Pembrolizumab plus chemotherapy versus placebo...   \n",
       "33284113  Pembrolizumab plus axitinib versus sunitinib m...   \n",
       "33309774  Cobimetinib plus atezolizumab in BRAFV600 wild...   \n",
       "33385521  Palbociclib in combination with endocrine ther...   \n",
       "\n",
       "                                                   Abstract  \n",
       "PMID                                                         \n",
       "24256848  Background:\\nConcurrent chemoradiotherapy (CCR...  \n",
       "24297950  Purpose:\\nThis international phase III trial (...  \n",
       "24297945  Purpose:\\nTo prospectively determine the effic...  \n",
       "24323035  Purpose:\\nWe evaluated angiogenesis-targeted s...  \n",
       "24356622  Background:\\nThe study 20050181 demonstrated s...  \n",
       "...                                                     ...  \n",
       "33207094  Background:\\nLorlatinib, a third-generation in...  \n",
       "33278935  Background:\\nPembrolizumab monotherapy showed ...  \n",
       "33284113  Background:\\nThe first interim analysis of the...  \n",
       "33309774  Background:\\nEmerging data suggest that the co...  \n",
       "33385521  Background:\\nPalbociclib plus endocrine therap...  \n",
       "\n",
       "[482 rows x 2 columns]"
      ]
     },
     "execution_count": 19,
     "metadata": {},
     "output_type": "execute_result"
    }
   ],
   "source": [
    "criteria3"
   ]
  },
  {
   "cell_type": "code",
   "execution_count": 20,
   "metadata": {},
   "outputs": [],
   "source": [
    "criteria3.to_excel('../../tables/failed_trials/all_phae3_trials_abstract.xlsx')\n",
    "#criteria3.to_excel('../../tables/fa/otherTumorTypes_criteria3.xlsx')"
   ]
  },
  {
   "cell_type": "code",
   "execution_count": null,
   "metadata": {},
   "outputs": [],
   "source": []
  }
 ],
 "metadata": {
  "kernelspec": {
   "display_name": "Python 3",
   "language": "python",
   "name": "python3"
  },
  "language_info": {
   "codemirror_mode": {
    "name": "ipython",
    "version": 3
   },
   "file_extension": ".py",
   "mimetype": "text/x-python",
   "name": "python",
   "nbconvert_exporter": "python",
   "pygments_lexer": "ipython3",
   "version": "3.9.1 (default, Dec 11 2020, 06:28:49) \n[Clang 10.0.0 ]"
  },
  "orig_nbformat": 4,
  "vscode": {
   "interpreter": {
    "hash": "88e0f04d7450649f0cef718b1dadcfe90092948bc6a3addd4af5a2464df65a27"
   }
  }
 },
 "nbformat": 4,
 "nbformat_minor": 2
}
